{
 "cells": [
  {
   "cell_type": "markdown",
   "id": "eb044650-5cd6-4020-a004-b5955f3dc5f7",
   "metadata": {},
   "source": [
    "# Data Science Tools and Ecosystem"
   ]
  },
  {
   "cell_type": "markdown",
   "id": "ca57aa26-f8a4-4783-b63c-75d787435ba7",
   "metadata": {},
   "source": [
    "In this notebook, Data Science Tools and Ecosystem are summarized."
   ]
  },
  {
   "cell_type": "markdown",
   "id": "4c7954c3-ead7-4404-821b-973d1ce6c8f7",
   "metadata": {},
   "source": [
    "**Objectives:** "
   ]
  },
  {
   "cell_type": "markdown",
   "id": "423531aa-cd32-4a1b-9be5-5e6eb07509ba",
   "metadata": {},
   "source": [
    "- List of popular languages for Data Science\n",
    "- List of commonly used Libraries by Data Scientists\n",
    "- List of popular open source data enviroment\n",
    "- Few examples of arithmetic expressions\n",
    "- Displaying Headers and Lists"
   ]
  },
  {
   "cell_type": "markdown",
   "id": "1c61b7b7-ddd5-4315-a600-8b4c3db60234",
   "metadata": {},
   "source": [
    "Some of the popular languages that Data Scientists use are:"
   ]
  },
  {
   "cell_type": "markdown",
   "id": "6980a691-b9af-47b7-8dd5-2c9ce3f6af1e",
   "metadata": {},
   "source": [
    "1. Python\n",
    "2. R\n",
    "3. Scala"
   ]
  },
  {
   "cell_type": "markdown",
   "id": "ea4e8aef-983f-47c7-9039-8eb2e7d3340b",
   "metadata": {},
   "source": [
    "Some of the commonly used libraries used by Data Scientists include:"
   ]
  },
  {
   "cell_type": "markdown",
   "id": "9e9b7c07-2217-4e04-9cae-0fb9d92c87f0",
   "metadata": {},
   "source": [
    "1. NumPy\n",
    "2. Pandas\n",
    "3. Matplotlib"
   ]
  },
  {
   "cell_type": "markdown",
   "id": "59fe0c59-4a38-4cfb-b69f-cfa9c6e40bad",
   "metadata": {},
   "source": [
    "Data Science Tools:"
   ]
  },
  {
   "cell_type": "markdown",
   "id": "afc68094-b1be-42f7-84e4-8891caa67e38",
   "metadata": {},
   "source": [
    "|Data Science Tools|\n",
    "|---|\n",
    "|Jupiter Notebook|\n",
    "|RStudio|\n",
    "|VS Code|\n",
    "\n"
   ]
  },
  {
   "cell_type": "markdown",
   "id": "431bc435-9d4d-49f9-b70d-f376dfb8c5e5",
   "metadata": {},
   "source": [
    "### Below are a few examples of evaluating arithmetic expressions in Python"
   ]
  },
  {
   "cell_type": "markdown",
   "id": "ba5718ff-e4be-4a0b-9394-2c0d327fda28",
   "metadata": {},
   "source": [
    "Operation of ordinary division:"
   ]
  },
  {
   "cell_type": "code",
   "execution_count": 3,
   "id": "7f0c6c40-2f12-4b61-9340-eea90f5943d5",
   "metadata": {},
   "outputs": [
    {
     "data": {
      "text/plain": [
       "2.5"
      ]
     },
     "execution_count": 3,
     "metadata": {},
     "output_type": "execute_result"
    }
   ],
   "source": [
    "5/2"
   ]
  },
  {
   "cell_type": "markdown",
   "id": "f781bec8-3ff5-40fa-8dfd-8022f356277e",
   "metadata": {},
   "source": [
    "The operation of determining the remainder of division:"
   ]
  },
  {
   "cell_type": "code",
   "execution_count": 4,
   "id": "116ad6f8-bace-43da-8a34-d9efe3cbaafd",
   "metadata": {},
   "outputs": [
    {
     "data": {
      "text/plain": [
       "2"
      ]
     },
     "execution_count": 4,
     "metadata": {},
     "output_type": "execute_result"
    }
   ],
   "source": [
    "7%5"
   ]
  },
  {
   "cell_type": "markdown",
   "id": "1e8587d3-ee01-4a10-9490-0a4d6202d947",
   "metadata": {},
   "source": [
    "Integer division operation:"
   ]
  },
  {
   "cell_type": "code",
   "execution_count": 5,
   "id": "c1aa79ef-620e-4792-8178-03670b9e64d2",
   "metadata": {},
   "outputs": [
    {
     "data": {
      "text/plain": [
       "1"
      ]
     },
     "execution_count": 5,
     "metadata": {},
     "output_type": "execute_result"
    }
   ],
   "source": [
    "7//5"
   ]
  },
  {
   "cell_type": "code",
   "execution_count": 6,
   "id": "d17553cf-7d78-4530-a5c2-8b1a682653b3",
   "metadata": {},
   "outputs": [
    {
     "data": {
      "text/plain": [
       "17"
      ]
     },
     "execution_count": 6,
     "metadata": {},
     "output_type": "execute_result"
    }
   ],
   "source": [
    "#This a simple arithmetic expression to mutiply then add integers\n",
    "(3*4)+5"
   ]
  },
  {
   "cell_type": "code",
   "execution_count": 7,
   "id": "94cf2edf-4b61-478c-b175-61f5a6c300c6",
   "metadata": {},
   "outputs": [
    {
     "data": {
      "text/plain": [
       "3.3333333333333335"
      ]
     },
     "execution_count": 7,
     "metadata": {},
     "output_type": "execute_result"
    }
   ],
   "source": [
    "#This will convert 200 minutes to hours by diving by 60\n",
    "200/60"
   ]
  },
  {
   "cell_type": "markdown",
   "id": "6c24d0f2-100b-4449-bc96-efd1361a7932",
   "metadata": {},
   "source": [
    "## Author"
   ]
  },
  {
   "cell_type": "markdown",
   "id": "82acb011-38d4-4cf2-bf9b-33f8edd8dc52",
   "metadata": {},
   "source": [
    "Katherina Kryuchko"
   ]
  },
  {
   "cell_type": "code",
   "execution_count": null,
   "id": "abdcbb3a-b9de-4cce-a603-f9c94edb6843",
   "metadata": {},
   "outputs": [],
   "source": []
  }
 ],
 "metadata": {
  "kernelspec": {
   "display_name": "Python 3 (ipykernel)",
   "language": "python",
   "name": "python3"
  },
  "language_info": {
   "codemirror_mode": {
    "name": "ipython",
    "version": 3
   },
   "file_extension": ".py",
   "mimetype": "text/x-python",
   "name": "python",
   "nbconvert_exporter": "python",
   "pygments_lexer": "ipython3",
   "version": "3.12.9"
  }
 },
 "nbformat": 4,
 "nbformat_minor": 5
}
